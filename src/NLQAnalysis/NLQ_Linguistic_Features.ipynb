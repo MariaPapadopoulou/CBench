{
 "cells": [
  {
   "cell_type": "code",
   "execution_count": null,
   "metadata": {},
   "outputs": [],
   "source": [
    "import numpy as np\n",
    "import pandas as pd\n",
    "import os\n",
    "import en_core_web_sm\n",
    "from spacy import displacy\n",
    "import matplotlib.pyplot as plt\n",
    "from scipy.spatial import distance\n",
    "from statistics import mode\n",
    "import re\n",
    "from scipy.interpolate import interp1d"
   ]
  },
  {
   "cell_type": "code",
   "execution_count": null,
   "metadata": {},
   "outputs": [],
   "source": [
    "filepath = os.getcwd() + \"/Data/\""
   ]
  },
  {
   "cell_type": "code",
   "execution_count": null,
   "metadata": {},
   "outputs": [],
   "source": [
    "# WDAqua Data\n",
    "\n",
    "wdaqua = pd.ExcelFile(filepath + 'Evaluation Section - WDAqua-Core1.xlsx')\n",
    "wdaqua_complex = pd.read_excel(wdaqua, 'ComplexQuestions', header=None).iloc[:,[0,5]]\n",
    "wdaqua_graph = pd.read_excel(wdaqua, 'GraphQuestions', header=None).iloc[:5166,[0,5]]\n",
    "wdaqua_web = pd.read_excel(wdaqua, 'WebQuestions', header=None).iloc[:,[0,5]]\n",
    "wdaqua_temp = pd.read_excel(wdaqua, 'TempQuestions', header=None).iloc[:,[0,5]]\n",
    "wdaqua_comqa = pd.read_excel(wdaqua, 'ComQA', header=None).iloc[:,[0,5]]\n",
    "wdaqua_qald1 = pd.read_excel(wdaqua, 'QALD-1', header=None).iloc[:,[0,5]]\n",
    "wdaqua_qald2 = pd.read_excel(wdaqua, 'QALD-2', header=None).iloc[:,[0,5]]\n",
    "wdaqua_qald3 = pd.read_excel(wdaqua, 'QALD-3', header=None).iloc[:,[0,5]]\n",
    "wdaqua_qald4 = pd.read_excel(wdaqua, 'QALD-4', header=None).iloc[:,[0,5]]\n",
    "wdaqua_qald5 = pd.read_excel(wdaqua, 'QALD-5', header=None).iloc[:,[0,5]]\n",
    "wdaqua_qald6 = pd.read_excel(wdaqua, 'QALD-6', header=None).iloc[:,[0,5]]\n",
    "wdaqua_qald7 = pd.read_excel(wdaqua, 'QALD-7', header=None).iloc[:,[0,5]]\n",
    "wdaqua_qald8 = pd.read_excel(wdaqua, 'QALD-8', header=None).iloc[:,[0,5]]\n",
    "wdaqua_qald9 = pd.read_excel(wdaqua, 'QALD-9', header=None).iloc[:,[0,5]]\n",
    "wdaqua_lcquad = pd.read_excel(wdaqua, 'LC-QUAD', header=None).iloc[:,[0,5]]"
   ]
  },
  {
   "cell_type": "code",
   "execution_count": null,
   "metadata": {},
   "outputs": [],
   "source": [
    "# Merge all benchmarks\n",
    "wdaqua_all = pd.concat([wdaqua_complex, wdaqua_web, wdaqua_graph, wdaqua_temp, wdaqua_comqa, wdaqua_lcquad, wdaqua_qald1, wdaqua_qald2, wdaqua_qald3, wdaqua_qald4, wdaqua_qald5, wdaqua_qald6, wdaqua_qald7, wdaqua_qald8, wdaqua_qald9])\n",
    "                       # keys=['complex', 'web', 'graph', 'temp', 'comqa', 'lcquad', 'qald1', 'qald2', 'qald3', 'qald4', 'qald5', 'qald6', 'qald7', 'qald8', 'qald9']\n",
    "wdaqua_all.columns = ['Ques', 'Ans']\n",
    "wdaqua_all = wdaqua_all[['Ans', 'Ques']]\n",
    "wdaqua_all = wdaqua_all.drop_duplicates(subset=\"Ques\").reset_index(drop=True)\n",
    "\n",
    "# Clean up data to have 'Ans' either being correct (1) or incorrect (0)\n",
    "for i in range(len(wdaqua_all)):\n",
    "    if wdaqua_all.iloc[i,0] == 'F1 : 1.0':\n",
    "        wdaqua_all.iloc[i,0] = 1\n",
    "    else:\n",
    "        wdaqua_all.iloc[i,0] = 0"
   ]
  },
  {
   "cell_type": "code",
   "execution_count": null,
   "metadata": {},
   "outputs": [],
   "source": [
    "# Categorize type of question\n",
    "def qType(df):\n",
    "    df.insert(1, \"Type\", \"\")\n",
    "    for i in range(len(df)):\n",
    "        string = df.iloc[i,2].lower()\n",
    "        if string.startswith('wh') or string.startswith('wh', string.find(\" \") + 1):\n",
    "            df.iloc[i,1] = \"wh\"\n",
    "        elif string.startswith('how') or string.startswith('how', string.find(\" \") + 1):\n",
    "            df.iloc[i,1] = \"how\"\n",
    "        elif string.startswith('is ') or string.startswith('was') or string.startswith('are ') or \\\n",
    "        string.startswith('were') or string.startswith('do ') or string.startswith('does') or \\\n",
    "        string.startswith('did'):\n",
    "            df.iloc[i,1] = \"yes/no\"\n",
    "        elif string.startswith('name') or string.startswith('list') or string.startswith('find') or \\\n",
    "        string.startswith('identify') or string.startswith('search') or string.startswith('locate') or \\\n",
    "        string.startswith('enumerate') or string.startswith('look for') or string.startswith('return') or \\\n",
    "        string.startswith('give') or string.startswith('show') or string.startswith('tell') or \\\n",
    "        string.startswith('can you') or string.startswith('could you') or string.startswith('describe') or \\\n",
    "        string.startswith('make') or string.startswith('please') or string.startswith('count') or \\\n",
    "        string.startswith('state'):\n",
    "            df.iloc[i,1] = \"request\"\n",
    "        else:\n",
    "            df.iloc[i,1] = \"topicalized\"\n",
    "    return df"
   ]
  },
  {
   "cell_type": "code",
   "execution_count": null,
   "metadata": {},
   "outputs": [],
   "source": [
    "wdaqua_all = qType(wdaqua_all)"
   ]
  },
  {
   "cell_type": "code",
   "execution_count": null,
   "metadata": {},
   "outputs": [],
   "source": [
    "wdaqua_all"
   ]
  },
  {
   "cell_type": "code",
   "execution_count": null,
   "metadata": {},
   "outputs": [],
   "source": [
    "# Divide the questions according to their respective types of questions\n",
    "wdaqua_df_wh = wdaqua_all[wdaqua_all[\"Type\"] == \"wh\"].reset_index(drop=True)\n",
    "wdaqua_df_how = wdaqua_all[wdaqua_all[\"Type\"] == \"how\"].reset_index(drop=True)\n",
    "wdaqua_df_yn = wdaqua_all[wdaqua_all[\"Type\"] == \"yes/no\"].reset_index(drop=True)\n",
    "wdaqua_df_req = wdaqua_all[wdaqua_all[\"Type\"] == \"request\"].reset_index(drop=True)\n",
    "wdaqua_df_top = wdaqua_all[wdaqua_all[\"Type\"] == \"topicalized\"].reset_index(drop=True)"
   ]
  },
  {
   "cell_type": "code",
   "execution_count": null,
   "metadata": {},
   "outputs": [],
   "source": [
    "wdaqua_df_how"
   ]
  },
  {
   "cell_type": "code",
   "execution_count": null,
   "metadata": {},
   "outputs": [],
   "source": [
    "# POS Tagging\n",
    "\n",
    "def posFreq(file, method):\n",
    "    # Generate POS Tagging for each question\n",
    "    nlp = en_core_web_sm.load()\n",
    "    pos = []\n",
    "    for i in range(len(file)):\n",
    "        ques_pos = []\n",
    "        doc = nlp(file.iloc[i,2]) # the questions are almost always in the third column in the benchmarks used,\n",
    "        for token in doc:               # so if not, may need to add additional padding to ensure index consistency\n",
    "            if method == \"UPOS\":\n",
    "                ques_pos.append(token.pos_)\n",
    "            elif method == \"Detailed\":\n",
    "                ques_pos.append(token.tag_)\n",
    "        pos.append(ques_pos)\n",
    "    # Convert to dataframe for easier usage\n",
    "    pos_df = pd.DataFrame(pos, file.index)\n",
    "    \n",
    "    # Find the frequency of tags in each question\n",
    "    freq = []\n",
    "    for i in range(len(pos_df)):\n",
    "        freq.append(pos_df.iloc[i,:].value_counts())\n",
    "    freq_df = pd.DataFrame(freq, file.index)\n",
    "    freq_df = freq_df.fillna(0)\n",
    "    freq_df.insert (0, \"Info\", file.iloc[:,0])\n",
    "    freq_df.insert (1, \"Type\", file.iloc[:,1])\n",
    "    \n",
    "    return pos, freq_df"
   ]
  },
  {
   "cell_type": "code",
   "execution_count": null,
   "metadata": {},
   "outputs": [],
   "source": [
    "wdaqua_upos, wdaqua_upos_freq_df = posFreq(wdaqua_all, \"UPOS\")"
   ]
  },
  {
   "cell_type": "code",
   "execution_count": null,
   "metadata": {},
   "outputs": [],
   "source": [
    "wdaqua_upos_freq_df"
   ]
  },
  {
   "cell_type": "code",
   "execution_count": null,
   "metadata": {},
   "outputs": [],
   "source": [
    "# Find the k-Nearest Neighbors of each question in its own type of question\n",
    "def knnQType(df, k):\n",
    "    ans = df[\"Info\"].reset_index(drop=True)\n",
    "    eucDist = distance.cdist(df.iloc[:,2:], df.iloc[:,2:], 'euclidean')\n",
    "    ans_df = []\n",
    "    for i in range(len(eucDist)):\n",
    "        knn = []\n",
    "        # find the answers of first k questions that is closest to the i-th question\n",
    "        knn_i = ans[np.delete(np.argpartition(eucDist[i], k), np.where(np.argpartition(eucDist[i], k) == i))[:k]]\n",
    "        knn.append(knn_i)\n",
    "        knn.append(mode(knn_i))\n",
    "        knn.append(ans[i])\n",
    "        ans_df.append(knn)\n",
    "    ans_df = pd.DataFrame(ans_df)\n",
    "    return ans_df"
   ]
  },
  {
   "cell_type": "code",
   "execution_count": null,
   "metadata": {},
   "outputs": [],
   "source": [
    "# Find 5 nearest neighbors of each question with the same question type\n",
    "wdaqua_ans_how = knnQType(wdaqua_upos_freq_df[wdaqua_upos_freq_df[\"Type\"] == \"how\"], 5)\n",
    "wdaqua_ans_yn = knnQType(wdaqua_upos_freq_df[wdaqua_upos_freq_df[\"Type\"] == \"yes/no\"], 5)\n",
    "wdaqua_ans_req = knnQType(wdaqua_upos_freq_df[wdaqua_upos_freq_df[\"Type\"] == \"request\"], 5)\n",
    "wdaqua_ans_top = knnQType(wdaqua_upos_freq_df[wdaqua_upos_freq_df[\"Type\"] == \"topicalized\"], 5)"
   ]
  },
  {
   "cell_type": "code",
   "execution_count": null,
   "metadata": {},
   "outputs": [],
   "source": [
    "wdaqua_ans_how"
   ]
  },
  {
   "cell_type": "code",
   "execution_count": null,
   "metadata": {},
   "outputs": [],
   "source": [
    "wdaqua_detailed, wdaqua_detailed_freq_df = posFreq(wdaqua_all, \"Detailed\")"
   ]
  },
  {
   "cell_type": "code",
   "execution_count": null,
   "metadata": {},
   "outputs": [],
   "source": [
    "wdaqua_ans_how_detailed = knnQType(wdaqua_detailed_freq_df[wdaqua_detailed_freq_df[\"Type\"] == \"how\"], 5)\n",
    "wdaqua_ans_yn_detailed = knnQType(wdaqua_detailed_freq_df[wdaqua_detailed_freq_df[\"Type\"] == \"yes/no\"], 5)\n",
    "wdaqua_ans_req_detailed = knnQType(wdaqua_detailed_freq_df[wdaqua_detailed_freq_df[\"Type\"] == \"request\"], 5)\n",
    "wdaqua_ans_top_detailed = knnQType(wdaqua_detailed_freq_df[wdaqua_detailed_freq_df[\"Type\"] == \"topicalized\"], 5)"
   ]
  },
  {
   "cell_type": "code",
   "execution_count": null,
   "metadata": {},
   "outputs": [],
   "source": [
    "# Dependency Parse Tree\n",
    "\n",
    "def parseTree(file):\n",
    "    # Generate Parse Tree for each question\n",
    "    nlp = en_core_web_sm.load()\n",
    "    prstree = []\n",
    "    for i in range(len(file)):\n",
    "        ques_prstree = []\n",
    "        doc = nlp(file.iloc[i,2])\n",
    "        #displacy.render(doc, style=\"dep\")\n",
    "        for token in doc:\n",
    "            ques_prstree.append(token.dep_)\n",
    "        prstree.append(ques_prstree)\n",
    "    prstree_df = pd.DataFrame(prstree, file.index)\n",
    "    # Convert all instances to categorical, then represent using ints\n",
    "    prstree_df = prstree_df.astype('category')\n",
    "    prstree_df = prstree_df.apply(lambda x: x.cat.codes)\n",
    "    prstree_df.insert (0, \"Info\", file.iloc[:,0])\n",
    "    prstree_df.insert (1, \"Type\", file.iloc[:,1])\n",
    "    return prstree_df"
   ]
  },
  {
   "cell_type": "code",
   "execution_count": null,
   "metadata": {},
   "outputs": [],
   "source": [
    "wdaqua_prstree_freq_df = parseTree(wdaqua_all)"
   ]
  },
  {
   "cell_type": "code",
   "execution_count": null,
   "metadata": {},
   "outputs": [],
   "source": [
    "wdaqua_ans_how_prstree = knnQType(wdaqua_prstree_freq_df[wdaqua_prstree_freq_df[\"Type\"] == \"how\"], 5)\n",
    "wdaqua_ans_yn_prstree = knnQType(wdaqua_prstree_freq_df[wdaqua_prstree_freq_df[\"Type\"] == \"yes/no\"], 5)\n",
    "wdaqua_ans_req_prstree = knnQType(wdaqua_prstree_freq_df[wdaqua_prstree_freq_df[\"Type\"] == \"request\"], 5)\n",
    "wdaqua_ans_top_prstree = knnQType(wdaqua_prstree_freq_df[wdaqua_prstree_freq_df[\"Type\"] == \"topicalized\"], 5)"
   ]
  },
  {
   "cell_type": "code",
   "execution_count": null,
   "metadata": {},
   "outputs": [],
   "source": [
    "# Find the specific wh-type in wh-questions (what, when, where, which, who, whose, and whom, excluding why)\n",
    "def specWh(df):\n",
    "    for i in range(len(df)):\n",
    "        string = df.iloc[i,2].lower()\n",
    "        if string.startswith('what') or string.startswith('what', string.find(\" \") + 1):\n",
    "            df.iloc[i,1] = \"what\"\n",
    "        elif string.startswith('when') or string.startswith('when', string.find(\" \") + 1):\n",
    "            df.iloc[i,1] = \"when\"\n",
    "        elif string.startswith('where') or string.startswith('where', string.find(\" \") + 1):\n",
    "            df.iloc[i,1] = \"where\"\n",
    "        elif string.startswith('which') or string.startswith('which', string.find(\" \") + 1):\n",
    "            df.iloc[i,1] = \"which\"\n",
    "        elif string.startswith('who ') or string.startswith('who ', string.find(\" \") + 1):\n",
    "            df.iloc[i,1] = \"who\"\n",
    "        elif string.startswith('whom') or string.startswith('whom', string.find(\" \") + 1):\n",
    "            df.iloc[i,1] = \"whom\"\n",
    "        elif string.startswith('whose') or string.startswith('whose', string.find(\" \") + 1):\n",
    "            df.iloc[i,1] = \"whose\"\n",
    "    df = df.drop(df[df['Type'] == 'wh'].index).reset_index(drop=True)\n",
    "    return df"
   ]
  },
  {
   "cell_type": "code",
   "execution_count": null,
   "metadata": {},
   "outputs": [],
   "source": [
    "wdaqua_df_wh = specWh(wdaqua_df_wh)"
   ]
  },
  {
   "cell_type": "code",
   "execution_count": null,
   "metadata": {},
   "outputs": [],
   "source": [
    "wdaqua_df_wh"
   ]
  },
  {
   "cell_type": "code",
   "execution_count": null,
   "metadata": {},
   "outputs": [],
   "source": [
    "# Add a dummy wh- variable into the PoS tag frequency dataframe, so that e.g. the value in the 'what' column \n",
    "# would be 1 if the question is a what-question, and 0 otherwise.\n",
    "def whDummy(freq_df):\n",
    "    freq_df[\"what\"] = 0\n",
    "    freq_df[\"when\"] = 0\n",
    "    freq_df[\"where\"] = 0\n",
    "    freq_df[\"which\"] = 0\n",
    "    freq_df[\"who\"] = 0\n",
    "    freq_df[\"whom\"] = 0\n",
    "    freq_df[\"whose\"] = 0\n",
    "    for i in range(len(freq_df)):\n",
    "        freq_df[freq_df.iloc[i,1]].iloc[i] = 1\n",
    "    return freq_df"
   ]
  },
  {
   "cell_type": "code",
   "execution_count": null,
   "metadata": {},
   "outputs": [],
   "source": [
    "wdaqua_wh_upos, wdaqua_wh_upos_freq_df = posFreq(wdaqua_df_wh, \"UPOS\")"
   ]
  },
  {
   "cell_type": "code",
   "execution_count": null,
   "metadata": {},
   "outputs": [],
   "source": [
    "wdaqua_wh_upos_freq_df = whDummy(wdaqua_wh_upos_freq_df)"
   ]
  },
  {
   "cell_type": "code",
   "execution_count": null,
   "metadata": {},
   "outputs": [],
   "source": [
    "wdaqua_wh_upos_freq_df"
   ]
  },
  {
   "cell_type": "code",
   "execution_count": null,
   "metadata": {},
   "outputs": [],
   "source": [
    "wdaqua_ans_wh = knnQType(wdaqua_wh_upos_freq_df, 5)"
   ]
  },
  {
   "cell_type": "code",
   "execution_count": null,
   "metadata": {},
   "outputs": [],
   "source": [
    "wdaqua_wh_detailed, wdaqua_wh_detailed_freq_df = posFreq(wdaqua_df_wh, \"Detailed\")"
   ]
  },
  {
   "cell_type": "code",
   "execution_count": null,
   "metadata": {},
   "outputs": [],
   "source": [
    "wdaqua_wh_detailed_freq_df = whDummy(wdaqua_wh_detailed_freq_df)"
   ]
  },
  {
   "cell_type": "code",
   "execution_count": null,
   "metadata": {},
   "outputs": [],
   "source": [
    "wdaqua_ans_wh_detailed = knnQType(wdaqua_wh_detailed_freq_df, 5)"
   ]
  },
  {
   "cell_type": "code",
   "execution_count": null,
   "metadata": {},
   "outputs": [],
   "source": [
    "wdaqua_ans_wh_detailed.iloc[1237,0]"
   ]
  },
  {
   "cell_type": "code",
   "execution_count": null,
   "metadata": {},
   "outputs": [],
   "source": [
    "print(wdaqua_df_wh.iloc[1237,2])\n",
    "print(wdaqua_df_wh.iloc[433,2])\n",
    "print(wdaqua_df_wh.iloc[308,2])\n",
    "print(wdaqua_df_wh.iloc[197,2])\n",
    "print(wdaqua_df_wh.iloc[451,2])\n",
    "print(wdaqua_df_wh.iloc[177,2])"
   ]
  },
  {
   "cell_type": "code",
   "execution_count": null,
   "metadata": {},
   "outputs": [],
   "source": [
    "wdaqua_wh_prstree_freq_df = parseTree(wdaqua_df_wh)"
   ]
  },
  {
   "cell_type": "code",
   "execution_count": null,
   "metadata": {},
   "outputs": [],
   "source": [
    "wdaqua_wh_prstree_freq_df = whDummy(wdaqua_wh_prstree_freq_df)"
   ]
  },
  {
   "cell_type": "code",
   "execution_count": null,
   "metadata": {},
   "outputs": [],
   "source": [
    "wdaqua_ans_wh_prstree = knnQType(wdaqua_wh_prstree_freq_df, 5)"
   ]
  },
  {
   "cell_type": "code",
   "execution_count": null,
   "metadata": {},
   "outputs": [],
   "source": []
  },
  {
   "cell_type": "code",
   "execution_count": null,
   "metadata": {},
   "outputs": [],
   "source": [
    "wdaqua_qaldAll = pd.concat([wdaqua_qald1, wdaqua_qald2, wdaqua_qald3, wdaqua_qald4, wdaqua_qald5, wdaqua_qald6, wdaqua_qald7, wdaqua_qald8, wdaqua_qald9])\n",
    "wdaqua_qaldAll.columns = ['Ques', 'Ans']\n",
    "wdaqua_qaldAll = wdaqua_qaldAll.drop_duplicates(subset=\"Ques\").reset_index(drop=True)\n",
    "wdaqua_qaldAll = wdaqua_qaldAll.drop(wdaqua_qaldAll.index[395]).reset_index(drop=True)"
   ]
  },
  {
   "cell_type": "code",
   "execution_count": null,
   "metadata": {},
   "outputs": [],
   "source": [
    "wdaqua_qaldAll"
   ]
  },
  {
   "cell_type": "code",
   "execution_count": null,
   "metadata": {},
   "outputs": [],
   "source": [
    "free917 = pd.read_csv(filepath + \"Evaluation Section - WDAqua-Core1 - Fee917.csv\", header=None)"
   ]
  },
  {
   "cell_type": "code",
   "execution_count": null,
   "metadata": {},
   "outputs": [],
   "source": [
    "simpledb = pd.read_csv(filepath + 'SimpleQuestionsDB-OnlyNLQs.csv', header=None).iloc[:-1, :]"
   ]
  },
  {
   "cell_type": "code",
   "execution_count": null,
   "metadata": {},
   "outputs": [],
   "source": [
    "simple = pd.read_excel(filepath + 'SimpleQuestions.xlsx', header=None).iloc[:, 3:]"
   ]
  },
  {
   "cell_type": "code",
   "execution_count": null,
   "metadata": {},
   "outputs": [],
   "source": [
    "# Question Length Distribution\n",
    "\n",
    "def quesLen(df):\n",
    "    df['Length'] = 0\n",
    "    for i in range(len(df)):\n",
    "        df['Length'][i] = len(re.findall(r'\\w+', df.iloc[i,0]))\n",
    "    return df"
   ]
  },
  {
   "cell_type": "code",
   "execution_count": null,
   "metadata": {
    "scrolled": false
   },
   "outputs": [],
   "source": [
    "wdaqua_qaldAll = quesLen(wdaqua_qaldAll)\n",
    "wdaqua_web = quesLen(wdaqua_web)\n",
    "wdaqua_graph = quesLen(wdaqua_graph)\n",
    "wdaqua_lcquad = quesLen(wdaqua_lcquad)\n",
    "wdaqua_temp = quesLen(wdaqua_temp)\n",
    "wdaqua_complex = quesLen(wdaqua_complex)\n",
    "wdaqua_comqa = quesLen(wdaqua_comqa)\n",
    "free917 = quesLen(free917)\n",
    "simple = quesLen(simple)\n",
    "simpledb = quesLen(simpledb)"
   ]
  },
  {
   "cell_type": "code",
   "execution_count": null,
   "metadata": {},
   "outputs": [],
   "source": [
    "x = wdaqua_qaldAll['Length'].value_counts(normalize=True).sort_index().index\n",
    "y = wdaqua_qaldAll['Length'].value_counts(normalize=True).sort_index() * 100     # 90%: 12\n",
    "f = interp1d(x, y, kind='cubic')\n",
    "xnew = np.linspace(2, 21, num=41, endpoint=True)\n",
    "\n",
    "x1 = wdaqua_web['Length'].value_counts(normalize=True).sort_index().index\n",
    "y1 = wdaqua_web['Length'].value_counts(normalize=True).sort_index() * 100     # 10\n",
    "f1 = interp1d(x1, y1, kind='cubic')\n",
    "xnew1 = np.linspace(3, 15, num=41, endpoint=True)\n",
    "\n",
    "x2 = wdaqua_graph['Length'].value_counts(normalize=True).sort_index().index\n",
    "y2 = wdaqua_graph['Length'].value_counts(normalize=True).sort_index() * 100     # 14\n",
    "f2 = interp1d(x2, y2, kind='cubic')\n",
    "xnew2 = np.linspace(2, 25, num=41, endpoint=True)\n",
    "\n",
    "x3 = wdaqua_lcquad['Length'].value_counts(normalize=True).sort_index().index\n",
    "y3 = wdaqua_lcquad['Length'].value_counts(normalize=True).sort_index() * 100     # 11\n",
    "f3 = interp1d(x3, y3, kind='cubic')\n",
    "xnew3 = np.linspace(2, 26, num=41, endpoint=True)\n",
    "\n",
    "x4 = wdaqua_temp['Length'].value_counts(normalize=True).sort_index().index\n",
    "y4 = wdaqua_temp['Length'].value_counts(normalize=True).sort_index() * 100     # 11\n",
    "f4 = interp1d(x4, y4, kind='cubic')\n",
    "xnew4 = np.linspace(4, 15, num=41, endpoint=True)\n",
    "\n",
    "x5 = wdaqua_complex['Length'].value_counts(normalize=True).sort_index().index\n",
    "y5 = wdaqua_complex['Length'].value_counts(normalize=True).sort_index() * 100     # 12\n",
    "f5 = interp1d(x5, y5, kind='cubic')\n",
    "xnew5 = np.linspace(5, 19, num=41, endpoint=True)\n",
    "\n",
    "x6 = wdaqua_comqa['Length'].value_counts(normalize=True).sort_index().index\n",
    "y6 = wdaqua_comqa['Length'].value_counts(normalize=True).sort_index() * 100     # 11\n",
    "f6 = interp1d(x6, y6, kind='cubic')\n",
    "xnew6 = np.linspace(2, 21, num=41, endpoint=True)\n",
    "\n",
    "x7 = free917['Length'].value_counts(normalize=True).sort_index().index\n",
    "y7 = free917['Length'].value_counts(normalize=True).sort_index() * 100     # 11\n",
    "f7 = interp1d(x7, y7, kind='cubic')\n",
    "xnew7 = np.linspace(3, 18, num=41, endpoint=True)\n",
    "\n",
    "x8 = simple['Length'].value_counts(normalize=True).sort_index().index\n",
    "y8 = simple['Length'].value_counts(normalize=True).sort_index() * 100     # 11\n",
    "f8 = interp1d(x8, y8, kind='cubic')\n",
    "xnew8 = np.linspace(1, 34, num=41, endpoint=True)\n",
    "\n",
    "x9 = simpledb['Length'].value_counts(normalize=True).sort_index().index\n",
    "y9 = simpledb['Length'].value_counts(normalize=True).sort_index() * 100     # 10\n",
    "f9 = interp1d(x9, y9, kind='cubic')\n",
    "xnew9 = np.linspace(1, 34, num=41, endpoint=True)"
   ]
  },
  {
   "cell_type": "code",
   "execution_count": null,
   "metadata": {},
   "outputs": [],
   "source": [
    "fig, ax = plt.subplots()\n",
    "\n",
    "ax.scatter(x, y, c='b', marker='.')\n",
    "ax.plot(xnew, f(xnew), '-b')\n",
    "ax.plot([], [], '-.', color='blue', label = 'QALD')\n",
    "\n",
    "ax.scatter(x1, y1, c='g', marker='+')\n",
    "ax.plot(xnew1, f1(xnew1), '--g')\n",
    "ax.plot([], [], '--+', color='green', label = 'Web')\n",
    "\n",
    "ax.scatter(x2, y2, c='r', marker='o')\n",
    "ax.plot(xnew2, f2(xnew2), '-r')\n",
    "ax.plot([], [], '-o', color='red', label = 'Graph')\n",
    "\n",
    "ax.scatter(x3, y3, c='c', marker='x')\n",
    "ax.plot(xnew3, f3(xnew3), '--c')\n",
    "ax.plot([], [], '--x', color='cyan', label = 'LC-QuAD')\n",
    "\n",
    "ax.scatter(x4, y4, c='m', marker='v')\n",
    "ax.plot(xnew4, f4(xnew4), '-m')\n",
    "ax.plot([], [], '-v', color='magenta', label = 'Temp')\n",
    "\n",
    "ax.scatter(x5, y5, c='y', marker='|')\n",
    "ax.plot(xnew5, f5(xnew5), '--y')\n",
    "ax.plot([], [], '--|', color='yellow', label = 'Complex')\n",
    "\n",
    "ax.scatter(x6, y6, c='k', marker='d')\n",
    "ax.plot(xnew6, f6(xnew6), '-k')\n",
    "ax.plot([], [], '-d', color='black', label = 'ComQA')\n",
    "\n",
    "# ax.scatter(x7, y7, c='r', marker='1')\n",
    "# ax.plot(xnew7, f7(xnew7), '--r')\n",
    "# ax.plot([], [], '--1', color='red', label = 'Free917')\n",
    "\n",
    "ax.scatter(x8, y8, c='g', marker='s')\n",
    "ax.plot(xnew8, f8(xnew8), '-g')\n",
    "ax.plot([], [], '-s', color='green', label = 'Simple')\n",
    "\n",
    "ax.scatter(x9, y9, c='m', marker='*')\n",
    "ax.plot(xnew9, f9(xnew9), '--m')\n",
    "ax.plot([], [], '--*', color='magenta', label = 'SimpleDB')\n",
    "\n",
    "plt.xlabel(\"No. of words in question\", fontsize=14)\n",
    "plt.ylabel(\"Percentage of questions\", fontsize=14)\n",
    "plt.legend(loc='best')\n",
    "plt.show()"
   ]
  },
  {
   "cell_type": "code",
   "execution_count": null,
   "metadata": {},
   "outputs": [],
   "source": []
  }
 ],
 "metadata": {
  "kernelspec": {
   "display_name": "Python 3",
   "language": "python",
   "name": "python3"
  },
  "language_info": {
   "codemirror_mode": {
    "name": "ipython",
    "version": 3
   },
   "file_extension": ".py",
   "mimetype": "text/x-python",
   "name": "python",
   "nbconvert_exporter": "python",
   "pygments_lexer": "ipython3",
   "version": "3.7.4"
  }
 },
 "nbformat": 4,
 "nbformat_minor": 2
}
