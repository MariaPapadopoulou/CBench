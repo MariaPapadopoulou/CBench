{
  "nbformat": 4,
  "nbformat_minor": 0,
  "metadata": {
    "colab": {
      "provenance": [],
      "authorship_tag": "ABX9TyN3EXuHUGBzLTzBzEqdAecw",
      "include_colab_link": true
    },
    "kernelspec": {
      "name": "python3",
      "display_name": "Python 3"
    },
    "language_info": {
      "name": "python"
    }
  },
  "cells": [
    {
      "cell_type": "markdown",
      "metadata": {
        "id": "view-in-github",
        "colab_type": "text"
      },
      "source": [
        "<a href=\"https://colab.research.google.com/github/MariaPapadopoulou/CBench/blob/master/sparql_lacrimalit_1.ipynb\" target=\"_parent\"><img src=\"https://colab.research.google.com/assets/colab-badge.svg\" alt=\"Open In Colab\"/></a>"
      ]
    },
    {
      "cell_type": "code",
      "execution_count": null,
      "metadata": {
        "id": "AMPNmO7RIrY1",
        "outputId": "a75cba0c-58d5-474b-969e-0601be395690",
        "colab": {
          "base_uri": "https://localhost:8080/"
        }
      },
      "outputs": [
        {
          "output_type": "stream",
          "name": "stdout",
          "text": [
            "Collecting rdflib\n",
            "  Downloading rdflib-7.0.0-py3-none-any.whl (531 kB)\n",
            "\u001b[2K     \u001b[90m━━━━━━━━━━━━━━━━━━━━━━━━━━━━━━━━━━━━━━━━\u001b[0m \u001b[32m531.9/531.9 kB\u001b[0m \u001b[31m4.9 MB/s\u001b[0m eta \u001b[36m0:00:00\u001b[0m\n",
            "\u001b[?25hCollecting isodate<0.7.0,>=0.6.0 (from rdflib)\n",
            "  Downloading isodate-0.6.1-py2.py3-none-any.whl (41 kB)\n",
            "\u001b[2K     \u001b[90m━━━━━━━━━━━━━━━━━━━━━━━━━━━━━━━━━━━━━━━━\u001b[0m \u001b[32m41.7/41.7 kB\u001b[0m \u001b[31m3.4 MB/s\u001b[0m eta \u001b[36m0:00:00\u001b[0m\n",
            "\u001b[?25hRequirement already satisfied: pyparsing<4,>=2.1.0 in /usr/local/lib/python3.10/dist-packages (from rdflib) (3.1.2)\n",
            "Requirement already satisfied: six in /usr/local/lib/python3.10/dist-packages (from isodate<0.7.0,>=0.6.0->rdflib) (1.16.0)\n",
            "Installing collected packages: isodate, rdflib\n",
            "Successfully installed isodate-0.6.1 rdflib-7.0.0\n"
          ]
        }
      ],
      "source": [
        "!pip install rdflib\n"
      ]
    },
    {
      "cell_type": "code",
      "source": [
        "from rdflib import Graph, Namespace\n",
        "\n",
        "# Define the namespaces\n",
        "RDF_NS = Namespace(\"http://www.w3.org/1999/02/22-rdf-syntax-ns#\")\n",
        "OWL_NS = Namespace(\"http://www.w3.org/2002/07/owl#\")\n",
        "RDFS_NS = Namespace(\"http://www.w3.org/2000/01/rdf-schema#\")\n",
        "XSD_NS = Namespace(\"http://www.w3.org/2001/XMLSchema#\")\n",
        "SKOS_NS = Namespace(\"http://www.w3.org/2004/02/skos/core#\")\n",
        "FOAF_NS = Namespace(\"http://xmlns.com/foaf/0.1/\")\n",
        "LAC_NS = Namespace(\"http://ontologia.fr/OTB/lac#\")\n",
        "g = Graph()\n",
        "g.parse(\"http://ontologia.fr/OTB/lac.owl\", format=\"xml\")  # Change this to the correct path to your file"
      ],
      "metadata": {
        "colab": {
          "base_uri": "https://localhost:8080/"
        },
        "id": "erV3_IjcJOFs",
        "outputId": "1bc02800-9636-4e4c-e609-23d53c644260"
      },
      "execution_count": null,
      "outputs": [
        {
          "output_type": "execute_result",
          "data": {
            "text/plain": [
              "<Graph identifier=N1bf437d5ecd24587a95cc3704ddff485 (<class 'rdflib.graph.Graph'>)>"
            ]
          },
          "metadata": {},
          "execution_count": 2
        }
      ]
    },
    {
      "cell_type": "code",
      "source": [
        "query = \"\"\"\n",
        "PREFIX rdf: <http://www.w3.org/1999/02/22-rdf-syntax-ns#>\n",
        "PREFIX owl: <http://www.w3.org/2002/07/owl#>\n",
        "PREFIX rdfs: <http://www.w3.org/2000/01/rdf-schema#>\n",
        "PREFIX xsd: <http://www.w3.org/2001/XMLSchema#>\n",
        "PREFIX skos: <http://www.w3.org/2004/02/skos/core#>\n",
        "PREFIX foaf: <http://xmlns.com/foaf/0.1/>\n",
        "PREFIX lac: <http://ontologia.fr/OTB/lac#>\n",
        "\n",
        "SELECT DISTINCT ?crisisName\n",
        "WHERE {\n",
        "    ?crisis rdfs:subClassOf* lac:Political_Crisis.\n",
        "    ?crisis rdfs:label ?crisisName\n",
        "}\n",
        "ORDER BY ?crisisName\n",
        "\"\"\"\n",
        "\n",
        "# Execute the SPARQL query\n",
        "results = g.query(query)\n",
        "\n",
        "# Print the results\n",
        "for row in results:\n",
        "    print(row.crisisName)"
      ],
      "metadata": {
        "colab": {
          "base_uri": "https://localhost:8080/"
        },
        "id": "kOhH9YPaJ6OO",
        "outputId": "0d376196-9952-4249-97f1-34f05b35aeff"
      },
      "execution_count": null,
      "outputs": [
        {
          "output_type": "stream",
          "name": "stdout",
          "text": [
            "αποστασία\n",
            "διαδήλωση\n",
            "δολοφονία\n",
            "εμφύλιος πόλεμος\n",
            "εξορία\n",
            "επιβουλή\n",
            "μηχανορραφία\n",
            "οστρακισμός\n",
            "πολιτική κρίση\n",
            "πραξικόπημα\n",
            "προδοσία\n",
            "στάση\n",
            "συμπαιγνία\n",
            "συνομωσία\n",
            "ταραχές\n",
            "ταραχή\n",
            "assassination\n",
            "civil war\n",
            "conspiracy\n",
            "coup-d-etat\n",
            "defection\n",
            "demonstration\n",
            "end of alliance\n",
            "exile\n",
            "murder\n",
            "ostracism\n",
            "perceived threat to power\n",
            "plot\n",
            "political crisis\n",
            "reform\n",
            "refusal to prostrate\n",
            "revolt\n",
            "riot\n",
            "secession\n",
            "sedition\n",
            "treason\n",
            "conspiration\n",
            "coup d'état\n",
            "guerre civile\n",
            "στάσις\n",
            "ἀπόστασις , εως, ἡ, (ἀφίστημι)\n",
            "ἐπιβουλή\n"
          ]
        }
      ]
    }
  ]
}